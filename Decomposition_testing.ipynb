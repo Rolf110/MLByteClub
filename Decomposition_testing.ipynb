{
 "cells": [
  {
   "cell_type": "code",
   "execution_count": 143,
   "id": "5bfa8726-e3e8-4d3d-ae62-d5c7afb5182f",
   "metadata": {
    "tags": []
   },
   "outputs": [],
   "source": [
    "import numpy as np"
   ]
  },
  {
   "cell_type": "code",
   "execution_count": 151,
   "id": "332257f5-30b9-477c-8ff1-16a2239cc839",
   "metadata": {
    "tags": []
   },
   "outputs": [
    {
     "name": "stdout",
     "output_type": "stream",
     "text": [
      "Rank(X) = 5\n"
     ]
    }
   ],
   "source": [
    "# matrix to decompose (X = A @ B.T)\n",
    "N = 5\n",
    "\n",
    "X_tmp = np.random.rand(N, N) * 1000\n",
    "X = X_tmp @ X_tmp.T\n",
    "print(f'Rank(X) = {np.linalg.matrix_rank(X)}')\n",
    "\n",
    "# init. addiyional matrices\n",
    "A = np.linalg.cholesky(X)\n",
    "B = A.copy()\n",
    "assert np.allclose(X, A @ B.T)\n",
    "\n",
    "K = X.T @ A\n",
    "G = A.T @ A\n",
    "\n",
    "U = np.random.rand(*X.shape)"
   ]
  },
  {
   "cell_type": "code",
   "execution_count": 152,
   "id": "5ec53012-b9d7-4dde-b4f3-9efd3579b22e",
   "metadata": {
    "tags": []
   },
   "outputs": [],
   "source": [
    "def ADMM(B, U, K, G, *, rank, epsilon):\n",
    "    \n",
    "    ro = np.trace(G) / rank\n",
    "    L = np.linalg.cholesky(G + ro * np.eye(G.shape[0]))\n",
    "    \n",
    "    r = np.inf\n",
    "    s = np.inf\n",
    "    \n",
    "    while (r > epsilon) or (s > epsilon):\n",
    "        B_ = np.linalg.inv(L).T @ np.linalg.inv(L) @ (K + ro * (B + U)).T\n",
    "        B0 = B.copy()\n",
    "        B = (B_.T - U).astype('int32')\n",
    "        U += B - B_.T\n",
    "        r = np.linalg.norm(B - B_.T, ord='fro')**2 / np.linalg.norm(B, ord='fro')**2\n",
    "        s = np.linalg.norm(B - B0, ord='fro')**2 / np.linalg.norm(U, ord='fro')**2\n",
    "    \n",
    "    return B, U"
   ]
  },
  {
   "cell_type": "code",
   "execution_count": 157,
   "id": "3b64c307-6b94-4b28-8010-89e51426c99e",
   "metadata": {
    "tags": []
   },
   "outputs": [],
   "source": [
    "epsilon = 1\n",
    "B_new, U = ADMM(B, U, K, G, rank=3, epsilon=epsilon)"
   ]
  },
  {
   "cell_type": "code",
   "execution_count": 158,
   "id": "e2e8b11a-8705-49a2-bab3-253054bb0ab0",
   "metadata": {
    "tags": []
   },
   "outputs": [],
   "source": [
    "assert np.allclose(A @ B_new.T, X, atol=epsilon, rtol=epsilon)"
   ]
  },
  {
   "cell_type": "code",
   "execution_count": 159,
   "id": "b1814c42-cf62-4f29-94cf-73ab74ea31e0",
   "metadata": {
    "tags": []
   },
   "outputs": [
    {
     "data": {
      "text/plain": [
       "array([[1309,    0,    0,    0,    0],\n",
       "       [1231,  507,    0,    0,    0],\n",
       "       [1023,  732,  727,    0,    0],\n",
       "       [1084,   -9,  -46,  482,    0],\n",
       "       [1033,  144,  109,  955,  209]], dtype=int32)"
      ]
     },
     "execution_count": 159,
     "metadata": {},
     "output_type": "execute_result"
    }
   ],
   "source": [
    "B_new"
   ]
  },
  {
   "cell_type": "code",
   "execution_count": 162,
   "id": "7c18e1bf-e2e0-466e-88a1-89308eb580c7",
   "metadata": {
    "tags": []
   },
   "outputs": [
    {
     "data": {
      "text/plain": [
       "array([[1308,    0,    0,    0,    0],\n",
       "       [1231,  506,    0,    0,    0],\n",
       "       [1023,  732,  727,    0,    0],\n",
       "       [1084,   -9,  -45,  481,    0],\n",
       "       [1032,  143,  109,  955,  209]], dtype=int32)"
      ]
     },
     "execution_count": 162,
     "metadata": {},
     "output_type": "execute_result"
    }
   ],
   "source": [
    "B.astype('int32')"
   ]
  }
 ],
 "metadata": {
  "kernelspec": {
   "display_name": "Python 3 (ipykernel)",
   "language": "python",
   "name": "python3"
  },
  "language_info": {
   "codemirror_mode": {
    "name": "ipython",
    "version": 3
   },
   "file_extension": ".py",
   "mimetype": "text/x-python",
   "name": "python",
   "nbconvert_exporter": "python",
   "pygments_lexer": "ipython3",
   "version": "3.9.18"
  }
 },
 "nbformat": 4,
 "nbformat_minor": 5
}
