{
 "cells": [
  {
   "cell_type": "code",
   "execution_count": 1,
   "id": "15d4fd44-d919-4b38-8f8e-c8716103b63b",
   "metadata": {},
   "outputs": [],
   "source": [
    "import pandas as pd\n",
    "import numpy as np\n",
    "import torch\n",
    "from sklearn.model_selection import train_test_split\n",
    "from sklearn.preprocessing import StandardScaler\n",
    "from torch.utils.data import TensorDataset, DataLoader\n",
    "from pathlib import Path"
   ]
  },
  {
   "cell_type": "code",
   "execution_count": 2,
   "id": "0621ee7f-6bd5-4a01-b697-132dbd2312f4",
   "metadata": {},
   "outputs": [],
   "source": [
    "from Model import ConvNet, train, test, print_size_of_model"
   ]
  },
  {
   "cell_type": "code",
   "execution_count": 3,
   "id": "cfc2fdea-e782-464b-9393-8db18d1dd1c5",
   "metadata": {},
   "outputs": [],
   "source": [
    "import torch\n",
    "import torchvision.transforms as transforms\n",
    "from torch.utils.data import DataLoader, random_split\n",
    "from torchvision.datasets import ImageFolder\n",
    "from torch.utils.data.sampler import SubsetRandomSampler\n",
    "_ = torch.manual_seed(0)\n",
    "\n",
    "transform = transforms.Compose([transforms.Resize((224, 224)),\n",
    "                                transforms.ToTensor(),\n",
    "                                transforms.Normalize((0.5, 0.5, 0.5), (0.5, 0.5, 0.5))])\n",
    "\n",
    "# Assuming dataset_folder is your folder with all data.\n",
    "dataset = ImageFolder(root='./data/archive_weather/Multi-class Weather Dataset/', transform=transform)\n",
    "\n",
    "# Get the size of the dataset.\n",
    "dataset_size = len(dataset)\n",
    "\n",
    "# Calculate the lengths of each part.\n",
    "train_size = int(0.7 * dataset_size)\n",
    "val_size = int(0.1 * dataset_size)\n",
    "test_size = dataset_size - train_size - val_size\n",
    "\n",
    "# Use random_split to split the dataset.\n",
    "train_dataset, val_dataset, test_dataset = random_split(dataset, [train_size, val_size, test_size])\n",
    "\n",
    "# Create the DataLoaders.\n",
    "batch_size = 32\n",
    "train_loader = DataLoader(train_dataset, batch_size=batch_size, shuffle=True)\n",
    "val_loader = DataLoader(val_dataset, batch_size=batch_size, shuffle=False)\n",
    "test_loader = DataLoader(test_dataset, batch_size=test_size, shuffle=True)\n",
    "\n",
    "device = 'cpu'"
   ]
  },
  {
   "cell_type": "code",
   "execution_count": 4,
   "id": "47bdf76f-9b86-41c6-9150-67405504550a",
   "metadata": {},
   "outputs": [],
   "source": [
    "net = ConvNet(output_size=4).to(device)"
   ]
  },
  {
   "cell_type": "code",
   "execution_count": 5,
   "id": "09c945d2-9c6e-4572-8ac2-15f8aa901d5a",
   "metadata": {},
   "outputs": [
    {
     "name": "stdout",
     "output_type": "stream",
     "text": [
      "Loaded model from disk\n"
     ]
    }
   ],
   "source": [
    "MODEL_FILENAME = './Saved_models/Weather.pt'\n",
    "\n",
    "if Path(MODEL_FILENAME).exists():\n",
    "    net.load_state_dict(torch.load(MODEL_FILENAME))\n",
    "    print('Loaded model from disk')\n",
    "else:\n",
    "    train(net, train_loader, val_loader, 1000, 5, device=device)\n",
    "    torch.save(net.state_dict(), MODEL_FILENAME)"
   ]
  },
  {
   "cell_type": "code",
   "execution_count": 6,
   "id": "135ea246-3ebf-4206-bc38-382f04df04cf",
   "metadata": {},
   "outputs": [
    {
     "data": {
      "application/vnd.jupyter.widget-view+json": {
       "model_id": "b650a2ad592f45b1a6d9421a9263e5d2",
       "version_major": 2,
       "version_minor": 0
      },
      "text/plain": [
       "  0%|          | 0/1 [00:00<?, ?it/s]"
      ]
     },
     "metadata": {},
     "output_type": "display_data"
    },
    {
     "name": "stdout",
     "output_type": "stream",
     "text": [
      "Accuracy of the model before quantization: 94.78\n"
     ]
    }
   ],
   "source": [
    "print(f'Accuracy of the model before quantization: {test(net, test_loader)}')"
   ]
  },
  {
   "cell_type": "code",
   "execution_count": 7,
   "id": "c203b470-d68a-44d4-b301-7d2a920c6658",
   "metadata": {},
   "outputs": [],
   "source": [
    "from Factorization import factorize, SVD_quant"
   ]
  },
  {
   "cell_type": "code",
   "execution_count": 8,
   "id": "c0f98b60-d3d0-4b5d-ab09-bf679f03d547",
   "metadata": {},
   "outputs": [],
   "source": [
    "reduction_rate = 2"
   ]
  },
  {
   "cell_type": "code",
   "execution_count": 9,
   "id": "e8054725-fe52-464f-a072-49381c55d197",
   "metadata": {},
   "outputs": [
    {
     "name": "stdout",
     "output_type": "stream",
     "text": [
      "linear2.weight\n"
     ]
    }
   ],
   "source": [
    "import re\n",
    "\n",
    "net_state_copy = net.state_dict().copy()\n",
    "linear_weights_keys = [layer for layer in net_state_copy if 'linear' in layer and '.weight' in layer]\n",
    "\n",
    "for layer in linear_weights_keys[1:-1]:\n",
    "    print(layer)\n",
    "    W = net.state_dict()[layer].detach()\n",
    "    # net_state_copy[layer] = factorize(W, torch.linalg.matrix_rank(W) // reduction_rate, method='min-max', use_ADMM=False)\n",
    "    net_state_copy[layer] = SVD_quant(W, torch.linalg.matrix_rank(W) // reduction_rate, method='min-max')"
   ]
  },
  {
   "cell_type": "code",
   "execution_count": 10,
   "id": "b0777712-a072-41b3-9191-092ece04aab1",
   "metadata": {},
   "outputs": [
    {
     "data": {
      "application/vnd.jupyter.widget-view+json": {
       "model_id": "5550548630194da38e6428f3184f8ca4",
       "version_major": 2,
       "version_minor": 0
      },
      "text/plain": [
       "  0%|          | 0/1 [00:00<?, ?it/s]"
      ]
     },
     "metadata": {},
     "output_type": "display_data"
    },
    {
     "data": {
      "text/plain": [
       "93.91"
      ]
     },
     "execution_count": 10,
     "metadata": {},
     "output_type": "execute_result"
    }
   ],
   "source": [
    "new_net = ConvNet(output_size=4).to(device)\n",
    "new_net.load_state_dict(net_state_copy)\n",
    "\n",
    "test(new_net, test_loader)"
   ]
  },
  {
   "cell_type": "code",
   "execution_count": 11,
   "id": "ddb4740c-0fd1-4574-9aab-3f0955025432",
   "metadata": {},
   "outputs": [
    {
     "name": "stdout",
     "output_type": "stream",
     "text": [
      "rank: 32\n",
      "Initial (byte): 131072\n",
      "Compressed (byte): 18432\n"
     ]
    }
   ],
   "source": [
    "import re\n",
    "\n",
    "net_state_copy = net.state_dict().copy()\n",
    "linear_weights_keys = [layer for layer in net_state_copy if 'linear' in layer and '.weight' in layer]\n",
    "\n",
    "mem_usage_init = []\n",
    "mem_usage_compressed = []\n",
    "\n",
    "for layer in linear_weights_keys[1:-1]:\n",
    "    W = net.state_dict()[layer].detach()\n",
    "    A, B, sc = factorize(W, torch.linalg.matrix_rank(W) // reduction_rate, return_int=True)\n",
    "\n",
    "    mem_usage_init.append(W.element_size() * W.numel())\n",
    "    mem_usage_compressed.append(A.element_size() * A.numel() + B.element_size() * B.numel())\n",
    "\n",
    "print(f'Initial (byte): {sum(mem_usage_init)}')\n",
    "print(f'Compressed (byte): {sum(mem_usage_compressed)}')"
   ]
  }
 ],
 "metadata": {
  "kernelspec": {
   "display_name": "Python 3 (ipykernel)",
   "language": "python",
   "name": "python3"
  },
  "language_info": {
   "codemirror_mode": {
    "name": "ipython",
    "version": 3
   },
   "file_extension": ".py",
   "mimetype": "text/x-python",
   "name": "python",
   "nbconvert_exporter": "python",
   "pygments_lexer": "ipython3",
   "version": "3.11.7"
  }
 },
 "nbformat": 4,
 "nbformat_minor": 5
}
