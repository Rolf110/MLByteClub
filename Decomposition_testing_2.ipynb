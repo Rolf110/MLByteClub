{
  "cells": [
    {
      "cell_type": "code",
      "execution_count": 69,
      "id": "5bfa8726-e3e8-4d3d-ae62-d5c7afb5182f",
      "metadata": {
        "tags": [],
        "id": "5bfa8726-e3e8-4d3d-ae62-d5c7afb5182f"
      },
      "outputs": [],
      "source": [
        "import numpy as np\n",
        "import torch"
      ]
    },
    {
      "cell_type": "code",
      "execution_count": 209,
      "id": "5ec53012-b9d7-4dde-b4f3-9efd3579b22e",
      "metadata": {
        "tags": [],
        "id": "5ec53012-b9d7-4dde-b4f3-9efd3579b22e"
      },
      "outputs": [],
      "source": [
        "def quantization(T,z,b):\n",
        "  scale = (torch.max(T)-torch.min(T))/(2**b-1)\n",
        "  f = lambda x: np.clip(np.round(x/scale)+z,-2**(b-1),2**(b-1)-1)\n",
        "  T.apply_(f)\n",
        "  return T\n",
        "\n",
        "def ADMM(B, U, K, G, rank, epsilon):\n",
        "\n",
        "    ro = torch.trace(G) / rank\n",
        "\n",
        "    LL = G + ro * torch.eye(*G.size())\n",
        "    L = torch.linalg.cholesky(LL)\n",
        "    LL_inv = torch.cholesky_inverse(L)\n",
        "\n",
        "    r = torch.inf\n",
        "    s = torch.inf\n",
        "\n",
        "    while (r > epsilon) or (s > epsilon):\n",
        "        B_ = LL_inv @ torch.transpose(K + ro * (B + U), 0, 1)\n",
        "        B0 = torch.clone(B)\n",
        "\n",
        "        B = quantization(torch.transpose(B_,0,1) - U,0,8)\n",
        "\n",
        "        U = U + B - torch.transpose(B_,0,1)\n",
        "\n",
        "        r = torch.norm(B - torch.transpose(B_,0,1), p='fro')**2 / torch.norm(B, p='fro')**2\n",
        "        s = torch.norm(B - B0, p='fro')**2 / torch.norm(U, p='fro')**2\n",
        "\n",
        "    return B, U"
      ]
    },
    {
      "cell_type": "code",
      "execution_count": 210,
      "id": "332257f5-30b9-477c-8ff1-16a2239cc839",
      "metadata": {
        "tags": [],
        "id": "332257f5-30b9-477c-8ff1-16a2239cc839"
      },
      "outputs": [],
      "source": [
        "X = torch.rand(6, 7)\n",
        "rank = 4\n",
        "epsilon = 0.01\n",
        "A, B = torch.linalg.qr(X)\n",
        "B = torch.transpose(B, 0, 1)\n",
        "\n",
        "A_old = torch.zeros_like(A)+1000\n",
        "B_old = torch.zeros_like(B)+1000\n",
        "\n",
        "eps = 1\n",
        "n=0\n",
        "\n",
        "while torch.max(abs(A_old-A))> eps or torch.max(abs(B_old-B))> eps:\n",
        "\n",
        "    K = torch.transpose(X, 0, 1) @ A\n",
        "    G = torch.transpose(A, 0, 1) @ A\n",
        "\n",
        "    U = torch.rand(*B.size())\n",
        "    B_old = torch.clone(B)\n",
        "    B, U = ADMM(B, U, K, G, rank, epsilon)\n",
        "\n",
        "    K = X @ B\n",
        "    G = torch.transpose(B, 0, 1) @ B\n",
        "\n",
        "    U = torch.rand(*A.size())\n",
        "    A_old = torch.clone(A)\n",
        "    A, U = ADMM(A, U, K, G, rank, epsilon)"
      ]
    },
    {
      "cell_type": "code",
      "source": [
        "A@B.T"
      ],
      "metadata": {
        "colab": {
          "base_uri": "https://localhost:8080/"
        },
        "id": "wyxsz9_HHKwH",
        "outputId": "2f400e8f-8300-474e-ae03-c6f06fd00ec5"
      },
      "id": "wyxsz9_HHKwH",
      "execution_count": 214,
      "outputs": [
        {
          "output_type": "execute_result",
          "data": {
            "text/plain": [
              "tensor([[ 109.,   22.,   73.,   36.,   28.,  -70.,  218.],\n",
              "        [ 121.,   34.,  -25.,   28.,   98.,  166., -110.],\n",
              "        [ 176.,  -97.,  -32.,  -77.,  187.,   72.,   -6.],\n",
              "        [ -20.,  -71.,  -67.,  -61.,  407.,  196.,   49.],\n",
              "        [ 110.,  297.,  235.,  271., -131.,   82.,   98.],\n",
              "        [  91.,  302.,   51.,  260., -135.,   58.,  158.]])"
            ]
          },
          "metadata": {},
          "execution_count": 214
        }
      ]
    },
    {
      "cell_type": "code",
      "source": [
        "X"
      ],
      "metadata": {
        "colab": {
          "base_uri": "https://localhost:8080/"
        },
        "id": "Ol98st62HBbl",
        "outputId": "09772ba0-d9f5-4f2e-9f89-fce081f42c86"
      },
      "id": "Ol98st62HBbl",
      "execution_count": 213,
      "outputs": [
        {
          "output_type": "execute_result",
          "data": {
            "text/plain": [
              "tensor([[0.8162, 0.0863, 0.0128, 0.1539, 0.7266, 0.3999, 0.8753],\n",
              "        [0.1650, 0.7647, 0.0542, 0.2135, 0.5394, 0.7972, 0.2413],\n",
              "        [0.1260, 0.2097, 0.0328, 0.0626, 0.7054, 0.2129, 0.8634],\n",
              "        [0.0756, 0.3062, 0.0955, 0.0852, 0.4647, 0.3032, 0.2865],\n",
              "        [0.1262, 0.3610, 0.0813, 0.0422, 0.1737, 0.1830, 0.2195],\n",
              "        [0.0890, 0.3659, 0.9238, 0.3759, 0.5191, 0.1736, 0.8454]])"
            ]
          },
          "metadata": {},
          "execution_count": 213
        }
      ]
    }
  ],
  "metadata": {
    "kernelspec": {
      "display_name": "Python 3 (ipykernel)",
      "language": "python",
      "name": "python3"
    },
    "language_info": {
      "codemirror_mode": {
        "name": "ipython",
        "version": 3
      },
      "file_extension": ".py",
      "mimetype": "text/x-python",
      "name": "python",
      "nbconvert_exporter": "python",
      "pygments_lexer": "ipython3",
      "version": "3.9.18"
    },
    "colab": {
      "provenance": []
    }
  },
  "nbformat": 4,
  "nbformat_minor": 5
}