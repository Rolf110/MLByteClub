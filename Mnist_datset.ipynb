{
 "cells": [
  {
   "cell_type": "code",
   "execution_count": 1,
   "metadata": {
    "id": "RKxe88YT_p9P"
   },
   "outputs": [],
   "source": [
    "import numpy as np\n",
    "import matplotlib.pyplot as plt\n",
    "import copy\n",
    "from sklearn.datasets import load_digits\n",
    "from sklearn.model_selection import train_test_split\n",
    "from sklearn.metrics import confusion_matrix, accuracy_score"
   ]
  },
  {
   "cell_type": "code",
   "execution_count": 2,
   "metadata": {
    "id": "E7_2lHue_r0x"
   },
   "outputs": [],
   "source": [
    "# fetch the dataset.\n",
    "digits, targets = load_digits(return_X_y=True)\n",
    "digits = digits.astype(np.float32) / 255\n",
    "\n",
    "digits_train, digits_test, targets_train, targets_test = train_test_split(digits, targets, random_state=0)\n",
    "\n",
    "train_size = digits_train.shape[0]\n",
    "test_size = digits_test.shape[0]\n",
    "\n",
    "input_size = 8*8\n",
    "classes_n = 10"
   ]
  },
  {
   "cell_type": "code",
   "execution_count": 3,
   "metadata": {
    "colab": {
     "base_uri": "https://localhost:8080/",
     "height": 111
    },
    "id": "feWQtoKtn1vV",
    "outputId": "c3bc4da0-711d-4648-a90c-560131283358"
   },
   "outputs": [
    {
     "data": {
      "image/png": "[encoded data removed]",
      "text/plain": [
       "<Figure size 1000x500 with 10 Axes>"
      ]
     },
     "metadata": {},
     "output_type": "display_data"
    }
   ],
   "source": [
    "N = 10\n",
    "\n",
    "sample_idx = np.random.choice(1797, N, replace=False)\n",
    "digits_sample = digits[sample_idx]\n",
    "targets_sample = targets[sample_idx]\n",
    "f, ax  = plt.subplots(1,10, figsize=(10, 5))\n",
    "\n",
    "for i in range(N):\n",
    "    ax[i].imshow(digits_sample[i].reshape(8,8))\n",
    "    ax[i].set_title('label: '+str(targets_sample[i]))\n"
   ]
  },
  {
   "cell_type": "code",
   "execution_count": 4,
   "metadata": {
    "id": "ffpXAKqQ_vfg"
   },
   "outputs": [],
   "source": [
    "class Linear:\n",
    "    def __init__(self, input_size, output_size):\n",
    "        # Trainable parameters of the layer and their gradients\n",
    "        self.thetas = np.random.randn(input_size, output_size) # the weight matrix of the layer (W)\n",
    "        self.thetas_grads = np.empty_like(self.thetas) # gradient w.r.t. the weight matrix of the layer\n",
    "        self.bias = np.random.randn(output_size) # bias terms of the layer (b)\n",
    "        self.bias_grads = np.empty_like(self.bias) # gradient w.r.t. bias terms of the linear layer\n",
    "\n",
    "    def forward(self, x): \n",
    "        # keep x for backward computation\n",
    "        self.x = x\n",
    "        output = np.matmul(x, self.thetas) + self.bias\n",
    "        return output\n",
    "    \n",
    "    def backward(self, output_grad, learning_rate):\n",
    "        \"\"\"\n",
    "        Calculate and return gradient of the loss w.r.t. the input of linear layer given the input x and the gradient \n",
    "        w.r.t output of linear layer. You should also calculate and update gradients of layer parameters.\n",
    "        :param x: np.array, input tensor for linear layer;\n",
    "        :param output_grad: np.array, grad tensor w.r.t output of linear layer;\n",
    "        :return: np.array, grad w.r.t input of linear layer\n",
    "        \"\"\"\n",
    "        \n",
    "        ### BEGIN Solution (do not delete this comment)\n",
    "        input_grad = np.dot(output_grad, self.thetas.T)\n",
    "        self.thetas_grads = np.outer(self.x, output_grad)\n",
    "        self.bias_grads = np.squeeze(output_grad)\n",
    "        # >>> your solution here <<<\n",
    "        self.step(learning_rate)\n",
    "\n",
    "        ### END Solution (do not delete this comment!)\n",
    "        \n",
    "        return input_grad\n",
    "\n",
    "    def step(self, learning_rate):\n",
    "        self.thetas -= self.thetas_grads * learning_rate\n",
    "        self.bias -= self.bias_grads * learning_rate\n",
    "    \n",
    "    def get_weights(self):\n",
    "        return self.thetas, self.bias\n",
    "    \n",
    "    def set_weights(self, thetas, bias):\n",
    "        self.thetas = thetas\n",
    "        self.bias = bias\n",
    "\n",
    "\n",
    "class LogisticActivation:\n",
    "    def __init__(self):\n",
    "        # the layer has no parameters\n",
    "        pass \n",
    "        \n",
    "    def sig(self, x):\n",
    "        return 1/(1 + np.exp(-x))\n",
    "\n",
    "    def forward(self, x):\n",
    "        # keep o for backward computation\n",
    "        self.o = self.sig(x)\n",
    "        return self.o \n",
    "\n",
    "\n",
    "    def backward(self,  output_grad, learning_rate=None):\n",
    "        \"\"\"\n",
    "        Calculate and return the gradient of the loss w.r.t. the input\n",
    "        of logistic non-linearity (given input x and the gradient \n",
    "        w.r.t output of logistic non-linearity).\n",
    "        \n",
    "        :param x: np.array, input tensor for logistic non-linearity;\n",
    "        :param output_grad: np.array, grad tensor w.r.t output of logistic non-linearity;\n",
    "        :return: np.array, grad w.r.t input of logistic non-linearity\n",
    "        \n",
    "        \"\"\"\n",
    "\n",
    "        input_grad = output_grad * self.o *(1-self.o )\n",
    "\n",
    "        \n",
    "        return input_grad\n",
    "\n",
    "\n",
    "class MLP:\n",
    "    def __init__(self, input_size, hidden_layer_size, output_size):\n",
    "        self.linear1 = Linear(input_size, hidden_layer_size)\n",
    "        self.activation1 = LogisticActivation()\n",
    "        self.linear2 = Linear(hidden_layer_size, output_size)\n",
    "        \n",
    "    def forward(self, x):\n",
    "        h1 = self.linear1.forward(x)\n",
    "        h1a = self.activation1.forward(h1)\n",
    "        out = self.linear2.forward(h1a)\n",
    "        return out\n",
    "\n",
    "    def backward(self, output_grad, learning_rate):\n",
    "        \"\"\"\n",
    "        Calculate and return the gradient of the loss w.r.t. the input of MLP given the input and the gradient \n",
    "        w.r.t output of MLP. You should also update gradients of paramerters of MLP layers.\n",
    "        Hint - you should chain backward operations of modules you have already implemented. You may also\n",
    "        need to calculate intermediate forward results.\n",
    "        \n",
    "        :param x: np.array, input tensor for MLP;\n",
    "        :param output_grad: np.array, grad tensor w.r.t output of MLP;\n",
    "        :return: np.array, grad w.r.t input of MLP\n",
    "        \"\"\"\n",
    " \n",
    "        grad_l2 = self.linear2.backward(output_grad, learning_rate)\n",
    "        grad_sig = self.activation1.backward(grad_l2)\n",
    "        out = self.linear1.backward(grad_sig, learning_rate)\n",
    "\n",
    "        return out\n",
    "    \n",
    "    def get_weights(self):\n",
    "\n",
    "        return {\"1 layer\" : self.linear1.get_weights(),\n",
    "                \"2 layer\" : self.linear2.get_weights()}\n",
    "    \n",
    "    \n",
    "    def set_weights(self, w_h1, b_h1, w_h2, b_h2):\n",
    "        self.linear1.set_weights(w_h1, b_h1)\n",
    "        self.linear2.set_weights(w_h2, b_h2)"
   ]
  },
  {
   "cell_type": "code",
   "execution_count": 5,
   "metadata": {
    "id": "07DUqp86_0To"
   },
   "outputs": [],
   "source": [
    "def softmax_crossentropy_with_logits(logits, reference_answers):\n",
    "\n",
    "    true_answer = reference_answers\n",
    "    reference_answers = np.zeros(10)\n",
    "    reference_answers[true_answer] = 1\n",
    "\n",
    "    exps = np.exp(logits-np.max(logits))\n",
    "    softmax_probs = exps / np.sum(exps)\n",
    "    \n",
    "    loss = -np.sum(reference_answers*np.log(softmax_probs+1e-9))\n",
    "    \n",
    "    return loss\n",
    "\n",
    "def grad_softmax_crossentropy_with_logits(logits, reference_answers):\n",
    "\n",
    "    true_answer = reference_answers\n",
    "    reference_answers = np.zeros(10)\n",
    "    reference_answers[true_answer] = 1\n",
    "\n",
    "    exps = np.exp(logits-np.max(logits))\n",
    "    softmax_probs = exps / np.sum(exps)\n",
    "\n",
    "    grad = (softmax_probs - reference_answers)\n",
    "\n",
    "    return grad"
   ]
  },
  {
   "cell_type": "code",
   "execution_count": 6,
   "metadata": {
    "colab": {
     "base_uri": "https://localhost:8080/"
    },
    "id": "DWkD2V1y_4QU",
    "outputId": "025c7788-1647-41b7-b6c2-3d57dbf1663c"
   },
   "outputs": [
    {
     "name": "stdout",
     "output_type": "stream",
     "text": [
      "Starting epoch 0 , Loss : 2.71 , Accuracy on train: 0.103 , Accuracy on test: 0.0667\n",
      "Starting epoch 10 , Loss : 2.15 , Accuracy on train: 0.625 , Accuracy on test: 0.649\n",
      "Starting epoch 20 , Loss : 1.55 , Accuracy on train: 0.821 , Accuracy on test: 0.807\n",
      "Starting epoch 30 , Loss : 1.07 , Accuracy on train: 0.875 , Accuracy on test: 0.871\n",
      "Starting epoch 40 , Loss : 0.742 , Accuracy on train: 0.9 , Accuracy on test: 0.889\n",
      "Starting epoch 50 , Loss : 0.534 , Accuracy on train: 0.911 , Accuracy on test: 0.904\n",
      "Starting epoch 60 , Loss : 0.399 , Accuracy on train: 0.92 , Accuracy on test: 0.924\n",
      "Starting epoch 70 , Loss : 0.308 , Accuracy on train: 0.927 , Accuracy on test: 0.931\n",
      "Starting epoch 80 , Loss : 0.245 , Accuracy on train: 0.929 , Accuracy on test: 0.931\n",
      "Starting epoch 90 , Loss : 0.198 , Accuracy on train: 0.936 , Accuracy on test: 0.933\n"
     ]
    }
   ],
   "source": [
    "np.random.seed(42)\n",
    "\n",
    "mlp = MLP(input_size=input_size, hidden_layer_size=100, output_size=classes_n)\n",
    "\n",
    "epochs_n = 100\n",
    "learning_curve = [0] * epochs_n\n",
    "test_curve = [0] * epochs_n\n",
    "\n",
    "x_train = digits_train\n",
    "x_test = digits_test\n",
    "y_train = targets_train\n",
    "y_test = targets_test\n",
    "\n",
    "learning_rate = 1e-2\n",
    "\n",
    "for epoch in range(epochs_n):\n",
    "    \n",
    "    y_pred = []\n",
    "\n",
    "    for sample_i in range(train_size):\n",
    "        x = x_train[sample_i].reshape((1, -1))\n",
    "        target = np.array([y_train[sample_i]])\n",
    "\n",
    "        logits = mlp.forward(x)\n",
    "        \n",
    "        loss = softmax_crossentropy_with_logits(logits, target)\n",
    "\n",
    "        grads_input_sml = grad_softmax_crossentropy_with_logits(logits, target)\n",
    "\n",
    "        mlp.backward(grads_input_sml, learning_rate)\n",
    "\n",
    "        y_pred.extend(logits.argmax(1))\n",
    "\n",
    "    if epoch % 10 == 0:\n",
    "        \n",
    "        y_pred_test = []\n",
    "\n",
    "        for sample_i in range(test_size):\n",
    "            x = x_test[sample_i].reshape((1, -1))\n",
    "            target = np.array([y_test[sample_i]])\n",
    "            \n",
    "            logits = mlp.forward(x)\n",
    "            y_pred_test.extend(logits.argmax(1))\n",
    "\n",
    "        print('Starting epoch {}'.format(epoch), \\\n",
    "              ', Loss : {:.3}'.format(loss), \\\n",
    "              ', Accuracy on train: {:.3}'.format(accuracy_score(y_train, y_pred)), \\\n",
    "              ', Accuracy on test: {:.3}'.format(accuracy_score(y_test, y_pred_test)) )"
   ]
  },
  {
   "cell_type": "code",
   "execution_count": 7,
   "metadata": {},
   "outputs": [],
   "source": [
    "def MLP_accuracy(nn, y_test):\n",
    "    \n",
    "    y_test = np.array(y_test)\n",
    "    y_pred_test = np.array([])\n",
    "\n",
    "    for sample_i in range(y_test.size):\n",
    "        x = x_test[sample_i].reshape((1, -1))\n",
    "\n",
    "        logits = nn.forward(x)\n",
    "        y_pred_test = np.append(y_pred_test, logits.argmax(1))\n",
    "\n",
    "    return accuracy_score(y_test, y_pred_test)\n",
    "    "
   ]
  },
  {
   "cell_type": "code",
   "execution_count": 8,
   "metadata": {
    "colab": {
     "base_uri": "https://localhost:8080/"
    },
    "id": "0DNQhxXaARCy",
    "outputId": "696177f9-461a-40d4-bfd8-a984c4b528cc"
   },
   "outputs": [
    {
     "name": "stdout",
     "output_type": "stream",
     "text": [
      "[[37  0  0  0  0  0  0  0  0  0]\n",
      " [ 0 39  0  0  0  0  2  0  0  2]\n",
      " [ 0  1 41  1  0  0  0  1  0  0]\n",
      " [ 0  0  0 43  0  0  0  0  1  1]\n",
      " [ 0  0  0  0 37  0  0  1  0  0]\n",
      " [ 0  0  0  0  0 46  0  0  0  2]\n",
      " [ 0  1  0  0  0  0 51  0  0  0]\n",
      " [ 0  0  0  0  0  0  0 48  0  0]\n",
      " [ 0  4  1  0  0  1  0  1 41  0]\n",
      " [ 0  0  0  4  0  2  0  0  1 40]]\n"
     ]
    }
   ],
   "source": [
    "logits = mlp.forward(x_test)\n",
    "exps = np.exp(logits-np.max(logits))\n",
    "softmax_probs = exps / np.sum(exps)\n",
    "\n",
    "pred = np.zeros((y_test.shape[0]), dtype=\"int\")\n",
    "\n",
    "for idx, prob in enumerate(softmax_probs):\n",
    "    pred[idx] = np.argmax(prob)\n",
    "\n",
    "cm = confusion_matrix(y_true = y_test, y_pred = pred)\n",
    "print(cm)"
   ]
  },
  {
   "cell_type": "code",
   "execution_count": 9,
   "metadata": {},
   "outputs": [
    {
     "name": "stdout",
     "output_type": "stream",
     "text": [
      "(64, 100)\n",
      "(100,)\n",
      "(100, 10)\n",
      "(10,)\n",
      "Accuracy on test, initial mlp: 0.94\n"
     ]
    }
   ],
   "source": [
    "w_1 = mlp.get_weights()['1 layer'][0]\n",
    "b_1 = mlp.get_weights()['1 layer'][1]\n",
    "w_2 = mlp.get_weights()['2 layer'][0]\n",
    "b_2 = mlp.get_weights()['2 layer'][1]\n",
    "\n",
    "for m in [w_1, b_1, w_2, b_2]:\n",
    "    print(m.shape)\n",
    "print('Accuracy on test, initial mlp: {:.4}'.format(MLP_accuracy(mlp, y_test)))"
   ]
  },
  {
   "cell_type": "code",
   "execution_count": 10,
   "metadata": {},
   "outputs": [
    {
     "name": "stdout",
     "output_type": "stream",
     "text": [
      "Accuracy on test, modified b2: 0.7778\n"
     ]
    }
   ],
   "source": [
    "mlp_modified = copy.deepcopy(mlp)\n",
    "mlp_modified.set_weights(w_1, b_1, w_2, np.random.normal(size=10))\n",
    "print('Accuracy on test, modified b2: {:.4}'.format(MLP_accuracy(mlp_modified, y_test)))"
   ]
  }
 ],
 "metadata": {
  "accelerator": "GPU",
  "colab": {
   "collapsed_sections": [],
   "name": "PART_2_of_HW2.ipynb",
   "provenance": []
  },
  "kernelspec": {
   "display_name": "Python 3 (ipykernel)",
   "language": "python",
   "name": "python3"
  },
  "language_info": {
   "codemirror_mode": {
    "name": "ipython",
    "version": 3
   },
   "file_extension": ".py",
   "mimetype": "text/x-python",
   "name": "python",
   "nbconvert_exporter": "python",
   "pygments_lexer": "ipython3",
   "version": "3.11.7"
  }
 },
 "nbformat": 4,
 "nbformat_minor": 1
}
